{
 "cells": [
  {
   "cell_type": "code",
   "execution_count": 28,
   "metadata": {},
   "outputs": [],
   "source": [
    "import csv\n",
    "import numpy as np\n",
    "import pandas as pd\n",
    "import seaborn as sns\n",
    "import matplotlib.pyplot as plt\n",
    "import statsmodels.api as sm\n",
    "from statsmodels.formula.api import ols,glm"
   ]
  },
  {
   "cell_type": "code",
   "execution_count": 25,
   "metadata": {
    "collapsed": true
   },
   "outputs": [
    {
     "name": "stdout",
     "output_type": "stream",
     "text": [
      "(1599, 13)\n",
      "  type  fixed_acidity  volatile_acidity  citric_acid  residual_sugar  \\\n",
      "0  Red            7.4              0.70         0.00             1.9   \n",
      "1  Red            7.8              0.88         0.00             2.6   \n",
      "2  Red            7.8              0.76         0.04             2.3   \n",
      "3  Red           11.2              0.28         0.56             1.9   \n",
      "4  Red            7.4              0.70         0.00             1.9   \n",
      "\n",
      "   chlorides  free_sulfur_dioxide  total_sulfur_dioxide  density    pH  \\\n",
      "0      0.076                 11.0                  34.0   0.9978  3.51   \n",
      "1      0.098                 25.0                  67.0   0.9968  3.20   \n",
      "2      0.092                 15.0                  54.0   0.9970  3.26   \n",
      "3      0.075                 17.0                  60.0   0.9980  3.16   \n",
      "4      0.076                 11.0                  34.0   0.9978  3.51   \n",
      "\n",
      "   sulphates  alcohol  quality  \n",
      "0       0.56      9.4        5  \n",
      "1       0.68      9.8        5  \n",
      "2       0.65      9.8        5  \n",
      "3       0.58      9.8        6  \n",
      "4       0.56      9.4        5  \n",
      "------\n",
      "       fixed_acidity  volatile_acidity  citric_acid  residual_sugar  \\\n",
      "count    1599.000000       1599.000000  1599.000000     1599.000000   \n",
      "mean        8.319637          0.527821     0.270976        2.538806   \n",
      "std         1.741096          0.179060     0.194801        1.409928   \n",
      "min         4.600000          0.120000     0.000000        0.900000   \n",
      "25%         7.100000          0.390000     0.090000        1.900000   \n",
      "50%         7.900000          0.520000     0.260000        2.200000   \n",
      "75%         9.200000          0.640000     0.420000        2.600000   \n",
      "max        15.900000          1.580000     1.000000       15.500000   \n",
      "\n",
      "         chlorides  free_sulfur_dioxide  total_sulfur_dioxide      density  \\\n",
      "count  1599.000000          1599.000000           1599.000000  1599.000000   \n",
      "mean      0.087467            15.874922             46.467792     0.996747   \n",
      "std       0.047065            10.460157             32.895324     0.001887   \n",
      "min       0.012000             1.000000              6.000000     0.990070   \n",
      "25%       0.070000             7.000000             22.000000     0.995600   \n",
      "50%       0.079000            14.000000             38.000000     0.996750   \n",
      "75%       0.090000            21.000000             62.000000     0.997835   \n",
      "max       0.611000            72.000000            289.000000     1.003690   \n",
      "\n",
      "                pH    sulphates      alcohol      quality  \n",
      "count  1599.000000  1599.000000  1599.000000  1599.000000  \n",
      "mean      3.311113     0.658149    10.422983     5.636023  \n",
      "std       0.154386     0.169507     1.065668     0.807569  \n",
      "min       2.740000     0.330000     8.400000     3.000000  \n",
      "25%       3.210000     0.550000     9.500000     5.000000  \n",
      "50%       3.310000     0.620000    10.200000     6.000000  \n",
      "75%       3.400000     0.730000    11.100000     6.000000  \n",
      "max       4.010000     2.000000    14.900000     8.000000  \n"
     ]
    }
   ],
   "source": [
    "#将数据集读入到pandas数据框中\n",
    "wine=pd.read_csv('winequality-red-1.csv',sep=',',header=0)\n",
    "print(wine.shape)\n",
    "#列名重命名，用下划线替换空格，使之符合python命名规范\n",
    "wine.columns=wine.columns.str.replace(' ','_')\n",
    "print(wine.head())\n",
    "print('------')\n",
    "#显示所有变量的描述性统计量\n",
    "#这些统计量包括总数、均值、标准差、最小值、第25个百分位数、中位数、第75个百分位数和最大值\n",
    "print(wine.describe())\n",
    "#找出唯一值\n",
    "# print(sorted(wine.quality.unique()))\n",
    "# print(sorted(wine.iloc(1)[\"quality\"]))\n",
    "# print(wine.iloc(0)[\"quality\"])\n",
    "# 计算值的频率\n",
    "# print(wine.quality.value_counts())"
   ]
  },
  {
   "cell_type": "markdown",
   "metadata": {},
   "source": [
    "# Data Processing\n",
    "Combine two types of wine data into one dataset."
   ]
  },
  {
   "cell_type": "code",
   "execution_count": 45,
   "metadata": {},
   "outputs": [],
   "source": [
    "with open('wine-quality-red-final.csv') as red:\n",
    "    with open('wine-quality-white-final.csv') as white:\n",
    "        red_row = csv.reader(red)\n",
    "        white_row = csv.reader(white)\n",
    "        next(white_row)\n",
    "        with open('uci-wine-quality-both.csv', 'w', newline='') as f:\n",
    "            writer = csv.writer(f, quoting=csv.QUOTE_NONE, quotechar=None, escapechar='|')\n",
    "            for row in red_row:\n",
    "                writer.writerow(row)\n",
    "            for row in white_row:\n",
    "                writer.writerow(row)"
   ]
  },
  {
   "cell_type": "code",
   "execution_count": 26,
   "metadata": {},
   "outputs": [
    {
     "name": "stdout",
     "output_type": "stream",
     "text": [
      "                type\n",
      "quality  count  Red     1599.000000\n",
      "         mean   Red        5.636023\n",
      "         std    Red        0.807569\n",
      "         min    Red        3.000000\n",
      "         25%    Red        5.000000\n",
      "         50%    Red        6.000000\n",
      "         75%    Red        6.000000\n",
      "         max    Red        8.000000\n",
      "dtype: float64\n",
      "     quality\n",
      "type     Red\n",
      "0.25     5.0\n",
      "0.75     6.0\n",
      "AxesSubplot(0.125,0.11;0.775x0.77)\n",
      "AxesSubplot(0.125,0.11;0.775x0.77)\n"
     ]
    },
    {
     "name": "stderr",
     "output_type": "stream",
     "text": [
      "C:\\Users\\Stone\\AppData\\Local\\Temp\\ipykernel_11496\\2813819855.py:10: UserWarning: \n",
      "\n",
      "`distplot` is a deprecated function and will be removed in seaborn v0.14.0.\n",
      "\n",
      "Please adapt your code to use either `displot` (a figure-level function with\n",
      "similar flexibility) or `histplot` (an axes-level function for histograms).\n",
      "\n",
      "For a guide to updating your code to use the new functions, please see\n",
      "https://gist.github.com/mwaskom/de44147ed2974457ad6372750bbe5751\n",
      "\n",
      "  print(sns.distplot(red_wine,norm_hist=True,kde=False,color=\"red\",label=\"Red wine\"))\n",
      "C:\\Users\\Stone\\.conda\\envs\\py310\\lib\\site-packages\\numpy\\lib\\histograms.py:906: RuntimeWarning: invalid value encountered in divide\n",
      "  return n/db/n.sum(), bin_edges\n",
      "C:\\Users\\Stone\\AppData\\Local\\Temp\\ipykernel_11496\\2813819855.py:11: UserWarning: \n",
      "\n",
      "`distplot` is a deprecated function and will be removed in seaborn v0.14.0.\n",
      "\n",
      "Please adapt your code to use either `displot` (a figure-level function with\n",
      "similar flexibility) or `histplot` (an axes-level function for histograms).\n",
      "\n",
      "For a guide to updating your code to use the new functions, please see\n",
      "https://gist.github.com/mwaskom/de44147ed2974457ad6372750bbe5751\n",
      "\n",
      "  print(sns.distplot(white_wine,norm_hist=True,kde=False,color=\"white\",label=\"White wine\"))\n"
     ]
    },
    {
     "data": {
      "image/png": "[encoded data removed]",
      "text/plain": [
       "<Figure size 640x480 with 1 Axes>"
      ]
     },
     "metadata": {},
     "output_type": "display_data"
    }
   ],
   "source": [
    "#按照葡萄酒类型显示质量的描述性统计量\n",
    "print(wine.groupby('type')[['quality']].describe().unstack('type'))\n",
    "#按照葡萄酒类型显示质量的特定分位数值\n",
    "print(wine.groupby('type')[['quality']].quantile([0.25,0.75]).unstack('type'))\n",
    "#按葡萄酒类型查看质量分布\n",
    "red_wine=wine.loc[wine['type']=='red','quality']\n",
    "white_wine=wine.loc[wine['type']=='white','quality']\n",
    "#使用seaborn和matplotlib绘图\n",
    "sns.set_style(\"dark\")\n",
    "print(sns.distplot(red_wine,norm_hist=True,kde=False,color=\"red\",label=\"Red wine\"))\n",
    "print(sns.distplot(white_wine,norm_hist=True,kde=False,color=\"white\",label=\"White wine\"))\n",
    "plt.xlabel(\"Quality Score\")\n",
    "plt.ylabel(\"Density\")\n",
    "plt.title(\"Distribution of Quality by Wine Type\")\n",
    "plt.legend()\n",
    "plt.show()"
   ]
  }
 ],
 "metadata": {
  "kernelspec": {
   "display_name": "Python 3 (ipykernel)",
   "language": "python",
   "name": "python3"
  },
  "language_info": {
   "codemirror_mode": {
    "name": "ipython",
    "version": 3
   },
   "file_extension": ".py",
   "mimetype": "text/x-python",
   "name": "python",
   "nbconvert_exporter": "python",
   "pygments_lexer": "ipython3",
   "version": "3.10.9"
  }
 },
 "nbformat": 4,
 "nbformat_minor": 1
}
